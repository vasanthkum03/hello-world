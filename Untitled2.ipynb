{
  "nbformat": 4,
  "nbformat_minor": 0,
  "metadata": {
    "colab": {
      "provenance": [],
      "authorship_tag": "ABX9TyMqydOJADbQm2CuMdo8zwxT",
      "include_colab_link": true
    },
    "kernelspec": {
      "name": "python3",
      "display_name": "Python 3"
    },
    "language_info": {
      "name": "python"
    }
  },
  "cells": [
    {
      "cell_type": "markdown",
      "metadata": {
        "id": "view-in-github",
        "colab_type": "text"
      },
      "source": [
        "<a href=\"https://colab.research.google.com/github/vasanthkum03/hello-world/blob/master/Untitled2.ipynb\" target=\"_parent\"><img src=\"https://colab.research.google.com/assets/colab-badge.svg\" alt=\"Open In Colab\"/></a>"
      ]
    },
    {
      "cell_type": "code",
      "execution_count": 36,
      "metadata": {
        "colab": {
          "base_uri": "https://localhost:8080/"
        },
        "id": "cnfVA1SYhPhQ",
        "outputId": "f1986fb0-9c5a-46ed-bd00-e5894bfc3eb0"
      },
      "outputs": [
        {
          "output_type": "stream",
          "name": "stdout",
          "text": [
            "+----+----+\n",
            "|Col1|Col2|\n",
            "+----+----+\n",
            "| IND| PAK|\n",
            "| IND| AUS|\n",
            "| IND|  SL|\n",
            "| PAK| AUS|\n",
            "| PAK|  SL|\n",
            "| AUS|  SL|\n",
            "+----+----+\n",
            "\n"
          ]
        }
      ],
      "source": [
        "from pyspark.sql import SparkSession\n",
        "from pyspark.sql.functions import col\n",
        "\n",
        "\n",
        "spark = SparkSession.builder.appName(\"SparkByExamples\").getOrCreate()\n",
        "\n",
        "Table1 = [(\"IND\",),(\"PAK\",),(\"AUS\",),(\"SL\",)]\n",
        "Table2 = [(\"IND\",),(\"PAK\",),(\"AUS\",),(\"SL\",)]\n",
        "\n",
        "df1 = spark.createDataFrame(Table1,[\"Col1\"])\n",
        "\n",
        "df2 = spark.createDataFrame(Table2,[\"Col2\"])\n",
        "\n",
        "result = df1.crossJoin(df2).filter(col(\"Col1\")!=  col(\"Col2\"))\n",
        "result = result.filter( (col(\"Col1\") == \"IND\") & (col(\"Col2\").isin([\"AUS\", \"SL\", \"PAK\"])) |\n",
        "    (col(\"Col1\") == \"PAK\") & (col(\"Col2\").isin([\"AUS\", \"SL\"])) |\n",
        "    (col(\"Col1\") == \"AUS\") & (col(\"Col2\") == \"SL\"))\n",
        "\n",
        "\n",
        "result.show()\n",
        "\n",
        "\n"
      ]
    },
    {
      "cell_type": "code",
      "source": [
        "from pyspark.sql import SparkSession\n",
        "from pyspark.sql.functions import col\n",
        "\n",
        "\n",
        "spark = SparkSession.builder.appName(\"SparkByExamples\").getOrCreate()\n",
        "\n",
        "Table1 = [(\"IND\",),(\"PAK\",),(\"AUS\",),(\"SL\",)]\n",
        "Table2 = [(\"IND\",),(\"PAK\",),(\"AUS\",),(\"SL\",)]\n",
        "\n",
        "df1 = spark.createDataFrame(Table1,[\"Col1\"])\n",
        "\n",
        "df2 = spark.createDataFrame(Table2,[\"Col2\"])\n"
      ],
      "metadata": {
        "id": "I88RG9a3qc2p"
      },
      "execution_count": null,
      "outputs": []
    }
  ]
}